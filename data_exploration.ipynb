{
  "nbformat": 4,
  "nbformat_minor": 0,
  "metadata": {
    "colab": {
      "name": "data_exploration.ipynb",
      "provenance": [],
      "authorship_tag": "ABX9TyPsDB9mn65zM9NoJ57LJroV"
    },
    "kernelspec": {
      "name": "python3",
      "display_name": "Python 3"
    },
    "language_info": {
      "name": "python"
    }
  },
  "cells": [
    {
      "cell_type": "markdown",
      "metadata": {
        "id": "-AxB4tsDnBLw"
      },
      "source": [
        "### STEP 1. Descriptive Statistics"
      ]
    },
    {
      "cell_type": "code",
      "metadata": {
        "id": "KVmNWnvTonW2"
      },
      "source": [
        "from google.colab import drive\n",
        "drive.mount('/content/gdrive')"
      ],
      "execution_count": null,
      "outputs": []
    },
    {
      "cell_type": "code",
      "metadata": {
        "id": "LGXIKsOToxCj"
      },
      "source": [
        "%cd /content/gdrive/MyDrive/TFM\n",
        "! ls"
      ],
      "execution_count": null,
      "outputs": []
    },
    {
      "cell_type": "code",
      "metadata": {
        "id": "yPqdf7ebEtn4",
        "colab": {
          "base_uri": "https://localhost:8080/",
          "height": 408
        },
        "outputId": "a35d7e3d-270d-433c-dcea-adcfb64097f0"
      },
      "source": [
        "# load data\n",
        "\n",
        "import pandas as pd\n",
        "import numpy as np\n",
        "from scipy.stats import chi2_contingency\n",
        "import seaborn as sns\n",
        "import matplotlib.pyplot as plt\n",
        "%matplotlib inline\n",
        "\n",
        "# dataset.xlsx -> the final version of the dataset after all data cleaning\n",
        "data = pd.read_excel('/content/gdrive/MyDrive/TFM/dataset.xlsx')\n",
        "data.head()"
      ],
      "execution_count": 9,
      "outputs": [
        {
          "output_type": "execute_result",
          "data": {
            "text/html": [
              "<div>\n",
              "<style scoped>\n",
              "    .dataframe tbody tr th:only-of-type {\n",
              "        vertical-align: middle;\n",
              "    }\n",
              "\n",
              "    .dataframe tbody tr th {\n",
              "        vertical-align: top;\n",
              "    }\n",
              "\n",
              "    .dataframe thead th {\n",
              "        text-align: right;\n",
              "    }\n",
              "</style>\n",
              "<table border=\"1\" class=\"dataframe\">\n",
              "  <thead>\n",
              "    <tr style=\"text-align: right;\">\n",
              "      <th></th>\n",
              "      <th>Index</th>\n",
              "      <th>Original EN Sentence</th>\n",
              "      <th>DE Counterpart Sentence</th>\n",
              "      <th>System Generated DE -&gt; EN Sentence</th>\n",
              "      <th>Original Phrasal Verb</th>\n",
              "      <th>DE Counterpart</th>\n",
              "      <th>System EN – Phrasal Verb</th>\n",
              "      <th>System EN – Non-phrasal Verb</th>\n",
              "      <th>Original Phrasal Verb: Verb+Particle Together?</th>\n",
              "      <th>DE: Separable prefix?</th>\n",
              "      <th>Input Type (German)</th>\n",
              "      <th>Output Type (English)</th>\n",
              "      <th>Input: Is Separated?</th>\n",
              "    </tr>\n",
              "  </thead>\n",
              "  <tbody>\n",
              "    <tr>\n",
              "      <th>0</th>\n",
              "      <td>1</td>\n",
              "      <td>I had somebody count the number of books with ...</td>\n",
              "      <td>Ich habe einige Leute die Anzahl der Bücher zä...</td>\n",
              "      <td>I had some people count the number of books pu...</td>\n",
              "      <td>give up</td>\n",
              "      <td>aufgeben</td>\n",
              "      <td>give up</td>\n",
              "      <td>NaN</td>\n",
              "      <td>Yes</td>\n",
              "      <td>Yes</td>\n",
              "      <td>Separable verb</td>\n",
              "      <td>Phrasal verb</td>\n",
              "      <td>Yes</td>\n",
              "    </tr>\n",
              "    <tr>\n",
              "      <th>1</th>\n",
              "      <td>7</td>\n",
              "      <td>This applies to laypeople thinking about their...</td>\n",
              "      <td>Das gilt für Laien , die über ihr eigenes Glüc...</td>\n",
              "      <td>This is true for laymen who think about their ...</td>\n",
              "      <td>turn out</td>\n",
              "      <td>sich herausstellen</td>\n",
              "      <td>turn out</td>\n",
              "      <td>NaN</td>\n",
              "      <td>Yes</td>\n",
              "      <td>Yes + reflexive</td>\n",
              "      <td>Separable verb</td>\n",
              "      <td>Phrasal verb</td>\n",
              "      <td>No</td>\n",
              "    </tr>\n",
              "    <tr>\n",
              "      <th>2</th>\n",
              "      <td>9</td>\n",
              "      <td>It turns out that the word happiness is just n...</td>\n",
              "      <td>Es stellt sich heraus , dass das Wort Glück ei...</td>\n",
              "      <td>It turns out that the word happiness is simply...</td>\n",
              "      <td>turn out</td>\n",
              "      <td>sich herausstellen</td>\n",
              "      <td>turn out</td>\n",
              "      <td>NaN</td>\n",
              "      <td>Yes</td>\n",
              "      <td>Yes + reflexive</td>\n",
              "      <td>Separable verb</td>\n",
              "      <td>Phrasal verb</td>\n",
              "      <td>Yes</td>\n",
              "    </tr>\n",
              "    <tr>\n",
              "      <th>3</th>\n",
              "      <td>10</td>\n",
              "      <td>I think there is one particular meaning to whi...</td>\n",
              "      <td>Ich denke , es gibt eine bestimmte Bedeutung ,...</td>\n",
              "      <td>I think there is a certain meaning to which we...</td>\n",
              "      <td>give up</td>\n",
              "      <td>aufgeben</td>\n",
              "      <td>give up</td>\n",
              "      <td>NaN</td>\n",
              "      <td>Yes</td>\n",
              "      <td>Yes</td>\n",
              "      <td>Separable verb</td>\n",
              "      <td>Phrasal verb</td>\n",
              "      <td>No</td>\n",
              "    </tr>\n",
              "    <tr>\n",
              "      <th>4</th>\n",
              "      <td>31</td>\n",
              "      <td>We don't only tell stories when we set out to ...</td>\n",
              "      <td>Wir erzählen nicht nur Geschichten , wenn wir ...</td>\n",
              "      <td>We don't just tell stories when we set out to ...</td>\n",
              "      <td>set out</td>\n",
              "      <td>sich daranmachen</td>\n",
              "      <td>set out</td>\n",
              "      <td>NaN</td>\n",
              "      <td>Yes</td>\n",
              "      <td>Yes + reflexive</td>\n",
              "      <td>Separable verb</td>\n",
              "      <td>Phrasal verb</td>\n",
              "      <td>Yes</td>\n",
              "    </tr>\n",
              "  </tbody>\n",
              "</table>\n",
              "</div>"
            ],
            "text/plain": [
              "   Index  ... Input: Is Separated?\n",
              "0      1  ...                  Yes\n",
              "1      7  ...                   No\n",
              "2      9  ...                  Yes\n",
              "3     10  ...                   No\n",
              "4     31  ...                  Yes\n",
              "\n",
              "[5 rows x 13 columns]"
            ]
          },
          "metadata": {
            "tags": []
          },
          "execution_count": 9
        }
      ]
    },
    {
      "cell_type": "code",
      "metadata": {
        "colab": {
          "base_uri": "https://localhost:8080/",
          "height": 266
        },
        "id": "1ZP4upsloUgT",
        "outputId": "97e41e0c-d688-4d70-d5b0-fa9f92468677"
      },
      "source": [
        "# summary of dataframe\n",
        "\n",
        "stats = data[['Original Phrasal Verb', 'DE Counterpart', 'System EN – Phrasal Verb', 'System EN – Non-phrasal Verb',\n",
        "              'Input Type (German)', 'Output Type (English)', 'Input: Is Separated?']]\n",
        "stats.describe().T"
      ],
      "execution_count": 10,
      "outputs": [
        {
          "output_type": "execute_result",
          "data": {
            "text/html": [
              "<div>\n",
              "<style scoped>\n",
              "    .dataframe tbody tr th:only-of-type {\n",
              "        vertical-align: middle;\n",
              "    }\n",
              "\n",
              "    .dataframe tbody tr th {\n",
              "        vertical-align: top;\n",
              "    }\n",
              "\n",
              "    .dataframe thead th {\n",
              "        text-align: right;\n",
              "    }\n",
              "</style>\n",
              "<table border=\"1\" class=\"dataframe\">\n",
              "  <thead>\n",
              "    <tr style=\"text-align: right;\">\n",
              "      <th></th>\n",
              "      <th>count</th>\n",
              "      <th>unique</th>\n",
              "      <th>top</th>\n",
              "      <th>freq</th>\n",
              "    </tr>\n",
              "  </thead>\n",
              "  <tbody>\n",
              "    <tr>\n",
              "      <th>Original Phrasal Verb</th>\n",
              "      <td>119</td>\n",
              "      <td>73</td>\n",
              "      <td>turn out</td>\n",
              "      <td>8</td>\n",
              "    </tr>\n",
              "    <tr>\n",
              "      <th>DE Counterpart</th>\n",
              "      <td>119</td>\n",
              "      <td>86</td>\n",
              "      <td>sich herausstellen</td>\n",
              "      <td>8</td>\n",
              "    </tr>\n",
              "    <tr>\n",
              "      <th>System EN – Phrasal Verb</th>\n",
              "      <td>54</td>\n",
              "      <td>36</td>\n",
              "      <td>turn out</td>\n",
              "      <td>8</td>\n",
              "    </tr>\n",
              "    <tr>\n",
              "      <th>System EN – Non-phrasal Verb</th>\n",
              "      <td>65</td>\n",
              "      <td>50</td>\n",
              "      <td>emit</td>\n",
              "      <td>5</td>\n",
              "    </tr>\n",
              "    <tr>\n",
              "      <th>Input Type (German)</th>\n",
              "      <td>119</td>\n",
              "      <td>4</td>\n",
              "      <td>Separable verb</td>\n",
              "      <td>57</td>\n",
              "    </tr>\n",
              "    <tr>\n",
              "      <th>Output Type (English)</th>\n",
              "      <td>119</td>\n",
              "      <td>2</td>\n",
              "      <td>Non-phrasal verb</td>\n",
              "      <td>65</td>\n",
              "    </tr>\n",
              "    <tr>\n",
              "      <th>Input: Is Separated?</th>\n",
              "      <td>57</td>\n",
              "      <td>2</td>\n",
              "      <td>No</td>\n",
              "      <td>33</td>\n",
              "    </tr>\n",
              "  </tbody>\n",
              "</table>\n",
              "</div>"
            ],
            "text/plain": [
              "                             count unique                 top freq\n",
              "Original Phrasal Verb          119     73            turn out    8\n",
              "DE Counterpart                 119     86  sich herausstellen    8\n",
              "System EN – Phrasal Verb        54     36            turn out    8\n",
              "System EN – Non-phrasal Verb    65     50                emit    5\n",
              "Input Type (German)            119      4      Separable verb   57\n",
              "Output Type (English)          119      2    Non-phrasal verb   65\n",
              "Input: Is Separated?            57      2                  No   33"
            ]
          },
          "metadata": {
            "tags": []
          },
          "execution_count": 10
        }
      ]
    },
    {
      "cell_type": "markdown",
      "metadata": {
        "id": "OLIxyFHpEeOv"
      },
      "source": [
        "### STEP 2. Chi-Square Test for Independence"
      ]
    },
    {
      "cell_type": "code",
      "metadata": {
        "colab": {
          "base_uri": "https://localhost:8080/",
          "height": 204
        },
        "id": "xMJN2Ubeo3Wf",
        "outputId": "e8374e1c-d23c-4489-8331-98dbd410a2ce"
      },
      "source": [
        "# subsetting -> exlude entries with fixed phrases in German, only leave verbs\n",
        "\n",
        "chi1 = stats[stats['Input Type (German)'] != 'Phrase']\n",
        "chi1.head()"
      ],
      "execution_count": 15,
      "outputs": [
        {
          "output_type": "execute_result",
          "data": {
            "text/html": [
              "<div>\n",
              "<style scoped>\n",
              "    .dataframe tbody tr th:only-of-type {\n",
              "        vertical-align: middle;\n",
              "    }\n",
              "\n",
              "    .dataframe tbody tr th {\n",
              "        vertical-align: top;\n",
              "    }\n",
              "\n",
              "    .dataframe thead th {\n",
              "        text-align: right;\n",
              "    }\n",
              "</style>\n",
              "<table border=\"1\" class=\"dataframe\">\n",
              "  <thead>\n",
              "    <tr style=\"text-align: right;\">\n",
              "      <th></th>\n",
              "      <th>Original Phrasal Verb</th>\n",
              "      <th>DE Counterpart</th>\n",
              "      <th>System EN – Phrasal Verb</th>\n",
              "      <th>System EN – Non-phrasal Verb</th>\n",
              "      <th>Input Type (German)</th>\n",
              "      <th>Output Type (English)</th>\n",
              "      <th>Input: Is Separated?</th>\n",
              "    </tr>\n",
              "  </thead>\n",
              "  <tbody>\n",
              "    <tr>\n",
              "      <th>0</th>\n",
              "      <td>give up</td>\n",
              "      <td>aufgeben</td>\n",
              "      <td>give up</td>\n",
              "      <td>NaN</td>\n",
              "      <td>Separable verb</td>\n",
              "      <td>Phrasal verb</td>\n",
              "      <td>Yes</td>\n",
              "    </tr>\n",
              "    <tr>\n",
              "      <th>1</th>\n",
              "      <td>turn out</td>\n",
              "      <td>sich herausstellen</td>\n",
              "      <td>turn out</td>\n",
              "      <td>NaN</td>\n",
              "      <td>Separable verb</td>\n",
              "      <td>Phrasal verb</td>\n",
              "      <td>No</td>\n",
              "    </tr>\n",
              "    <tr>\n",
              "      <th>2</th>\n",
              "      <td>turn out</td>\n",
              "      <td>sich herausstellen</td>\n",
              "      <td>turn out</td>\n",
              "      <td>NaN</td>\n",
              "      <td>Separable verb</td>\n",
              "      <td>Phrasal verb</td>\n",
              "      <td>Yes</td>\n",
              "    </tr>\n",
              "    <tr>\n",
              "      <th>3</th>\n",
              "      <td>give up</td>\n",
              "      <td>aufgeben</td>\n",
              "      <td>give up</td>\n",
              "      <td>NaN</td>\n",
              "      <td>Separable verb</td>\n",
              "      <td>Phrasal verb</td>\n",
              "      <td>No</td>\n",
              "    </tr>\n",
              "    <tr>\n",
              "      <th>4</th>\n",
              "      <td>set out</td>\n",
              "      <td>sich daranmachen</td>\n",
              "      <td>set out</td>\n",
              "      <td>NaN</td>\n",
              "      <td>Separable verb</td>\n",
              "      <td>Phrasal verb</td>\n",
              "      <td>Yes</td>\n",
              "    </tr>\n",
              "  </tbody>\n",
              "</table>\n",
              "</div>"
            ],
            "text/plain": [
              "  Original Phrasal Verb  ... Input: Is Separated?\n",
              "0               give up  ...                  Yes\n",
              "1              turn out  ...                   No\n",
              "2              turn out  ...                  Yes\n",
              "3               give up  ...                   No\n",
              "4               set out  ...                  Yes\n",
              "\n",
              "[5 rows x 7 columns]"
            ]
          },
          "metadata": {
            "tags": []
          },
          "execution_count": 15
        }
      ]
    },
    {
      "cell_type": "markdown",
      "metadata": {
        "id": "VOP3j7pnrftq"
      },
      "source": [
        "Plots"
      ]
    },
    {
      "cell_type": "code",
      "metadata": {
        "colab": {
          "base_uri": "https://localhost:8080/",
          "height": 518
        },
        "id": "CfqHUSzkvg3s",
        "outputId": "b84b01e0-ad72-4418-8e83-6038bf862de3"
      },
      "source": [
        "# countplot\n",
        "\n",
        "sns.set_theme(style=\"darkgrid\")\n",
        "plt.figure(figsize=(12,8))\n",
        "count_graph = sns.countplot(x ='Input Type (German)', hue = \"Output Type (English)\", data = chi1)\n",
        "plt.title('Phrasal and non-phrasal English verbs generated for the three types of the input German verbs')\n",
        "for p in count_graph.patches:\n",
        "  count_graph.annotate(format(p.get_height()), (p.get_x() + p.get_width() / 2., p.get_height()), ha = 'center', va = 'center', xytext = (0, 10), textcoords = 'offset points')"
      ],
      "execution_count": 17,
      "outputs": [
        {
          "output_type": "display_data",
          "data": {
            "image/png": "[encoded data removed]",
            "text/plain": [
              "<Figure size 864x576 with 1 Axes>"
            ]
          },
          "metadata": {
            "tags": []
          }
        }
      ]
    },
    {
      "cell_type": "code",
      "metadata": {
        "colab": {
          "base_uri": "https://localhost:8080/",
          "height": 173
        },
        "id": "pp-7ij7Tpy1Y",
        "outputId": "2d230d43-2cb1-471a-8cc2-c62757302365"
      },
      "source": [
        "# cross-tab in percents\n",
        "\n",
        "table1 = pd.crosstab(chi1['Input Type (German)'], chi1['Output Type (English)'], normalize='index')\n",
        "\n",
        "# re-ordering the table\n",
        "table1 = table1[['Phrasal verb', 'Non-phrasal verb']]\n",
        "table1 = table1.T\n",
        "table1 = table1[['Separable verb', 'Inseparable verb', 'Verb with no prefix']]\n",
        "table1 = table1.T\n",
        "table1"
      ],
      "execution_count": 18,
      "outputs": [
        {
          "output_type": "execute_result",
          "data": {
            "text/html": [
              "<div>\n",
              "<style scoped>\n",
              "    .dataframe tbody tr th:only-of-type {\n",
              "        vertical-align: middle;\n",
              "    }\n",
              "\n",
              "    .dataframe tbody tr th {\n",
              "        vertical-align: top;\n",
              "    }\n",
              "\n",
              "    .dataframe thead th {\n",
              "        text-align: right;\n",
              "    }\n",
              "</style>\n",
              "<table border=\"1\" class=\"dataframe\">\n",
              "  <thead>\n",
              "    <tr style=\"text-align: right;\">\n",
              "      <th>Output Type (English)</th>\n",
              "      <th>Phrasal verb</th>\n",
              "      <th>Non-phrasal verb</th>\n",
              "    </tr>\n",
              "    <tr>\n",
              "      <th>Input Type (German)</th>\n",
              "      <th></th>\n",
              "      <th></th>\n",
              "    </tr>\n",
              "  </thead>\n",
              "  <tbody>\n",
              "    <tr>\n",
              "      <th>Separable verb</th>\n",
              "      <td>0.666667</td>\n",
              "      <td>0.333333</td>\n",
              "    </tr>\n",
              "    <tr>\n",
              "      <th>Inseparable verb</th>\n",
              "      <td>0.250000</td>\n",
              "      <td>0.750000</td>\n",
              "    </tr>\n",
              "    <tr>\n",
              "      <th>Verb with no prefix</th>\n",
              "      <td>0.264706</td>\n",
              "      <td>0.735294</td>\n",
              "    </tr>\n",
              "  </tbody>\n",
              "</table>\n",
              "</div>"
            ],
            "text/plain": [
              "Output Type (English)  Phrasal verb  Non-phrasal verb\n",
              "Input Type (German)                                  \n",
              "Separable verb             0.666667          0.333333\n",
              "Inseparable verb           0.250000          0.750000\n",
              "Verb with no prefix        0.264706          0.735294"
            ]
          },
          "metadata": {
            "tags": []
          },
          "execution_count": 18
        }
      ]
    },
    {
      "cell_type": "code",
      "metadata": {
        "colab": {
          "base_uri": "https://localhost:8080/",
          "height": 284
        },
        "id": "vZFrCi4MPlsZ",
        "outputId": "ea4069cd-d1f1-47bf-8a92-376d9b23c560"
      },
      "source": [
        "# horizontal bar plot\n",
        "\n",
        "bar_graph = table1.plot.barh(stacked=True, color={\"Phrasal verb\": \"#742802\", \"Non-phrasal verb\": \"pink\"}).legend(title='Output Type (English)', bbox_to_anchor=(1, 0.65))\n",
        "plt.title('Ratio of phrasal and non-phrasal English verbs per German verb types category')\n",
        "plt.ylabel('(German)')\n",
        "plt.show()"
      ],
      "execution_count": 19,
      "outputs": [
        {
          "output_type": "display_data",
          "data": {
            "image/png": "[encoded data removed]",
            "text/plain": [
              "<Figure size 432x288 with 1 Axes>"
            ]
          },
          "metadata": {
            "tags": []
          }
        }
      ]
    },
    {
      "cell_type": "markdown",
      "metadata": {
        "id": "z_-zhfCssY10"
      },
      "source": [
        "Test 1: variables *Input Type (German)*, *Output Type (English)*"
      ]
    },
    {
      "cell_type": "code",
      "metadata": {
        "colab": {
          "base_uri": "https://localhost:8080/",
          "height": 173
        },
        "id": "AGM8BhhApXXm",
        "outputId": "9dd1d4c2-ae8d-4a3f-ed50-7d6650209151"
      },
      "source": [
        "# contingency table\n",
        "\n",
        "table2 = pd.crosstab(chi1['Input Type (German)'], chi1['Output Type (English)']) \n",
        "\n",
        "# Re-ordering the table\n",
        "table2 = table2[['Phrasal verb', 'Non-phrasal verb']]\n",
        "table2 = table2.T\n",
        "table2 = table2[['Separable verb', 'Inseparable verb', 'Verb with no prefix']]\n",
        "table2 = table2.T\n",
        "table2"
      ],
      "execution_count": 20,
      "outputs": [
        {
          "output_type": "execute_result",
          "data": {
            "text/html": [
              "<div>\n",
              "<style scoped>\n",
              "    .dataframe tbody tr th:only-of-type {\n",
              "        vertical-align: middle;\n",
              "    }\n",
              "\n",
              "    .dataframe tbody tr th {\n",
              "        vertical-align: top;\n",
              "    }\n",
              "\n",
              "    .dataframe thead th {\n",
              "        text-align: right;\n",
              "    }\n",
              "</style>\n",
              "<table border=\"1\" class=\"dataframe\">\n",
              "  <thead>\n",
              "    <tr style=\"text-align: right;\">\n",
              "      <th>Output Type (English)</th>\n",
              "      <th>Phrasal verb</th>\n",
              "      <th>Non-phrasal verb</th>\n",
              "    </tr>\n",
              "    <tr>\n",
              "      <th>Input Type (German)</th>\n",
              "      <th></th>\n",
              "      <th></th>\n",
              "    </tr>\n",
              "  </thead>\n",
              "  <tbody>\n",
              "    <tr>\n",
              "      <th>Separable verb</th>\n",
              "      <td>38</td>\n",
              "      <td>19</td>\n",
              "    </tr>\n",
              "    <tr>\n",
              "      <th>Inseparable verb</th>\n",
              "      <td>4</td>\n",
              "      <td>12</td>\n",
              "    </tr>\n",
              "    <tr>\n",
              "      <th>Verb with no prefix</th>\n",
              "      <td>9</td>\n",
              "      <td>25</td>\n",
              "    </tr>\n",
              "  </tbody>\n",
              "</table>\n",
              "</div>"
            ],
            "text/plain": [
              "Output Type (English)  Phrasal verb  Non-phrasal verb\n",
              "Input Type (German)                                  \n",
              "Separable verb                   38                19\n",
              "Inseparable verb                  4                12\n",
              "Verb with no prefix               9                25"
            ]
          },
          "metadata": {
            "tags": []
          },
          "execution_count": 20
        }
      ]
    },
    {
      "cell_type": "code",
      "metadata": {
        "colab": {
          "base_uri": "https://localhost:8080/",
          "height": 111
        },
        "id": "mK2767ckpL4A",
        "outputId": "3926fa73-f330-4ddd-83d6-eab07b2dfcd0"
      },
      "source": [
        "# combined contingency table\n",
        "\n",
        "phrasal = [38, 13]\n",
        "nonphrasal = [19, 37]\n",
        "german = ['DE Separable Verb', 'DE Non-separable Verb']\n",
        "\n",
        "table3 = pd.DataFrame(list(zip(phrasal, nonphrasal)), index = german, columns = ['EN Phrasal Verb', 'EN Non-Phrasal Verb'])\n",
        "table3"
      ],
      "execution_count": 21,
      "outputs": [
        {
          "output_type": "execute_result",
          "data": {
            "text/html": [
              "<div>\n",
              "<style scoped>\n",
              "    .dataframe tbody tr th:only-of-type {\n",
              "        vertical-align: middle;\n",
              "    }\n",
              "\n",
              "    .dataframe tbody tr th {\n",
              "        vertical-align: top;\n",
              "    }\n",
              "\n",
              "    .dataframe thead th {\n",
              "        text-align: right;\n",
              "    }\n",
              "</style>\n",
              "<table border=\"1\" class=\"dataframe\">\n",
              "  <thead>\n",
              "    <tr style=\"text-align: right;\">\n",
              "      <th></th>\n",
              "      <th>EN Phrasal Verb</th>\n",
              "      <th>EN Non-Phrasal Verb</th>\n",
              "    </tr>\n",
              "  </thead>\n",
              "  <tbody>\n",
              "    <tr>\n",
              "      <th>DE Separable Verb</th>\n",
              "      <td>38</td>\n",
              "      <td>19</td>\n",
              "    </tr>\n",
              "    <tr>\n",
              "      <th>DE Non-separable Verb</th>\n",
              "      <td>13</td>\n",
              "      <td>37</td>\n",
              "    </tr>\n",
              "  </tbody>\n",
              "</table>\n",
              "</div>"
            ],
            "text/plain": [
              "                       EN Phrasal Verb  EN Non-Phrasal Verb\n",
              "DE Separable Verb                   38                   19\n",
              "DE Non-separable Verb               13                   37"
            ]
          },
          "metadata": {
            "tags": []
          },
          "execution_count": 21
        }
      ]
    },
    {
      "cell_type": "code",
      "metadata": {
        "id": "LKK-FMLGwYxp"
      },
      "source": [
        "# chi-square function\n",
        "\n",
        "def chi_statistics(contingency_table):\n",
        "  \"\"\"receive contingency table, compute chi-square test for independence, interprete results\"\"\"\n",
        "  \n",
        "  print(\"CHI-SQUARE TEST FOR INDEPENDENCE\")\n",
        "  print()\n",
        "\n",
        "  # test\n",
        "  chi, p, dof, expected = chi2_contingency(contingency_table) \n",
        "  print(f\"chi-square value:   {chi:.5g}\")\n",
        "  print(f\"p-value:            {p:.5g}\")\n",
        "  print(f\"degrees of freedom: {dof}\")\n",
        "  print()\n",
        "\n",
        "  # interpretation\n",
        "  alpha = 0.05\n",
        "  chi2_critical = 3.84\n",
        "\n",
        "  print(\"Chi-square value\")\n",
        "  if chi >= chi2_critical:\n",
        "    print(\"The calculated chi-square value\", str(chi), \"is greater than/ equal to the critical value\", chi2_critical, \"=> reject H0, the variables are dependent.\")\n",
        "  else:\n",
        "    print(\"The calculated chi-square value\", str(chi), \"is not greater than/ equal to the critical value\", chi2_critical, \"=> H0 holds true, the variables are independent.\")\n",
        "  print()\n",
        "\n",
        "  print(\"p-value statistics\")\n",
        "  if p <= alpha:\n",
        "      print(\"The p-value\", str(p), \"is not greater than the alpha value\", alpha, \"=> reject H0, the variables are dependent.\")\n",
        "  else:\n",
        "      print(\"The p-value\", str(p), \"is greater than the alpha value\", alpha, \"=> H0 holds true, the variables are independent.\")"
      ],
      "execution_count": 25,
      "outputs": []
    },
    {
      "cell_type": "code",
      "metadata": {
        "colab": {
          "base_uri": "https://localhost:8080/"
        },
        "id": "yAF9K9oAudnY",
        "outputId": "f1d86779-e384-4f68-c108-3073967d8bfa"
      },
      "source": [
        "# run test\n",
        "\n",
        "chi_statistics(table3)"
      ],
      "execution_count": 27,
      "outputs": [
        {
          "output_type": "stream",
          "text": [
            "CHI-SQUARE TEST FOR INDEPENDENCE\n",
            "\n",
            "chi-square value:   16.066\n",
            "p-value:            6.1184e-05\n",
            "degrees of freedom: 1\n",
            "\n",
            "Chi-square value\n",
            "The calculated chi-square value 16.065646561256077 is greater than/ equal to the critical value 3.84 => reject H0, the variables are dependent.\n",
            "\n",
            "p-value statistics\n",
            "The p-value 6.118396474808487e-05 is not greater than the alpha value 0.05 => reject H0, the variables are dependent.\n"
          ],
          "name": "stdout"
        }
      ]
    },
    {
      "cell_type": "markdown",
      "metadata": {
        "id": "km8mKu9vu_5f"
      },
      "source": [
        "Test 2: variables *Input: Is Separated?*, *Output Type (English)*"
      ]
    },
    {
      "cell_type": "code",
      "metadata": {
        "colab": {
          "base_uri": "https://localhost:8080/"
        },
        "id": "-obX22DTjcOw",
        "outputId": "6047a72a-b695-4050-c02d-733e56a61223"
      },
      "source": [
        "chi2 = chi1[chi1['Input Type (German)'] == 'Separable verb']\n",
        "chi2.shape"
      ],
      "execution_count": 28,
      "outputs": [
        {
          "output_type": "execute_result",
          "data": {
            "text/plain": [
              "(57, 7)"
            ]
          },
          "metadata": {
            "tags": []
          },
          "execution_count": 28
        }
      ]
    },
    {
      "cell_type": "code",
      "metadata": {
        "colab": {
          "base_uri": "https://localhost:8080/",
          "height": 142
        },
        "id": "Ch87x-j7kygX",
        "outputId": "0ae7fff9-05f6-4235-9efc-2ee1dd3ce04f"
      },
      "source": [
        "# contingency table\n",
        "\n",
        "table4 = pd.crosstab(chi2['Input: Is Separated?'], chi2['Output Type (English)'])\n",
        "table4"
      ],
      "execution_count": 29,
      "outputs": [
        {
          "output_type": "execute_result",
          "data": {
            "text/html": [
              "<div>\n",
              "<style scoped>\n",
              "    .dataframe tbody tr th:only-of-type {\n",
              "        vertical-align: middle;\n",
              "    }\n",
              "\n",
              "    .dataframe tbody tr th {\n",
              "        vertical-align: top;\n",
              "    }\n",
              "\n",
              "    .dataframe thead th {\n",
              "        text-align: right;\n",
              "    }\n",
              "</style>\n",
              "<table border=\"1\" class=\"dataframe\">\n",
              "  <thead>\n",
              "    <tr style=\"text-align: right;\">\n",
              "      <th>Output Type (English)</th>\n",
              "      <th>Non-phrasal verb</th>\n",
              "      <th>Phrasal verb</th>\n",
              "    </tr>\n",
              "    <tr>\n",
              "      <th>Input: Is Separated?</th>\n",
              "      <th></th>\n",
              "      <th></th>\n",
              "    </tr>\n",
              "  </thead>\n",
              "  <tbody>\n",
              "    <tr>\n",
              "      <th>No</th>\n",
              "      <td>10</td>\n",
              "      <td>23</td>\n",
              "    </tr>\n",
              "    <tr>\n",
              "      <th>Yes</th>\n",
              "      <td>9</td>\n",
              "      <td>15</td>\n",
              "    </tr>\n",
              "  </tbody>\n",
              "</table>\n",
              "</div>"
            ],
            "text/plain": [
              "Output Type (English)  Non-phrasal verb  Phrasal verb\n",
              "Input: Is Separated?                                 \n",
              "No                                   10            23\n",
              "Yes                                   9            15"
            ]
          },
          "metadata": {
            "tags": []
          },
          "execution_count": 29
        }
      ]
    },
    {
      "cell_type": "code",
      "metadata": {
        "colab": {
          "base_uri": "https://localhost:8080/"
        },
        "id": "lnZJYKUjvrNy",
        "outputId": "60b7a8bf-2e8a-4a7c-ed48-84bc03691280"
      },
      "source": [
        "# run test\n",
        "\n",
        "chi_statistics(table4)"
      ],
      "execution_count": 30,
      "outputs": [
        {
          "output_type": "stream",
          "text": [
            "CHI-SQUARE TEST FOR INDEPENDENCE\n",
            "\n",
            "chi-square value:   0.080966\n",
            "p-value:            0.77599\n",
            "degrees of freedom: 1\n",
            "\n",
            "Chi-square value\n",
            "The calculated chi-square value 0.08096590909090909 is not greater than/ equal to the critical value 3.84 => H0 holds true, the variables are independent.\n",
            "\n",
            "p-value statistics\n",
            "The p-value 0.7759926834094925 is greater than the alpha value 0.05 => H0 holds true, the variables are independent.\n"
          ],
          "name": "stdout"
        }
      ]
    }
  ]
}