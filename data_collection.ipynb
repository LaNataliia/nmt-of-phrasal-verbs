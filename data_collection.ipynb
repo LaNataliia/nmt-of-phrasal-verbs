{
  "nbformat": 4,
  "nbformat_minor": 0,
  "metadata": {
    "colab": {
      "name": "data_collection.ipynb",
      "provenance": [],
      "authorship_tag": "ABX9TyP204eTSCQSjVNMHOX0AgwN"
    },
    "kernelspec": {
      "name": "python3",
      "display_name": "Python 3"
    },
    "language_info": {
      "name": "python"
    }
  },
  "cells": [
    {
      "cell_type": "markdown",
      "metadata": {
        "id": "NwK4vLJiHpwB"
      },
      "source": [
        "### STEP 1. Combine TED Talks raw files into 2 files: TED English, TED German"
      ]
    },
    {
      "cell_type": "code",
      "metadata": {
        "id": "YvuUTUTzVAUI"
      },
      "source": [
        "# connect Google Drive to access files\n",
        "\n",
        "from google.colab import drive\n",
        "drive.mount('/content/gdrive')"
      ],
      "execution_count": null,
      "outputs": []
    },
    {
      "cell_type": "code",
      "metadata": {
        "id": "dr_8sAO3VJ3n"
      },
      "source": [
        "# navigate to the directory\n",
        "\n",
        "%cd /content/gdrive/MyDrive/TFM\n",
        "! ls"
      ],
      "execution_count": null,
      "outputs": []
    },
    {
      "cell_type": "code",
      "metadata": {
        "id": "97ZG8KzZIo4p"
      },
      "source": [
        "# raw files paths\n",
        "\n",
        "ted1_en = '/content/gdrive/MyDrive/TFM/raw_ted_files/000_779.en.txt'\n",
        "ted2_en = '/content/gdrive/MyDrive/TFM/raw_ted_files/001_769.en.txt'\n",
        "ted3_en = '/content/gdrive/MyDrive/TFM/raw_ted_files/002_792.en.txt'\n",
        "ted4_en = '/content/gdrive/MyDrive/TFM/raw_ted_files/003_799.en.txt'\n",
        "ted5_en = '/content/gdrive/MyDrive/TFM/raw_ted_files/004_767.en.txt'\n",
        "ted6_en = '/content/gdrive/MyDrive/TFM/raw_ted_files/005_790.en.txt'\n",
        "ted7_en = '/content/gdrive/MyDrive/TFM/raw_ted_files/006_785.en.txt'\n",
        "ted8_en = '/content/gdrive/MyDrive/TFM/raw_ted_files/007_783.en.txt'\n",
        "ted9_en = '/content/gdrive/MyDrive/TFM/raw_ted_files/008_824.en.txt'\n",
        "ted10_en = '/content/gdrive/MyDrive/TFM/raw_ted_files/009_805.en.txt'\n",
        "ted11_en = '/content/gdrive/MyDrive/TFM/raw_ted_files/010_837.en.txt'\n",
        "\n",
        "ted1_de = '/content/gdrive/MyDrive/TFM/raw_ted_files/000_779.de.txt'\n",
        "ted2_de = '/content/gdrive/MyDrive/TFM/raw_ted_files/001_769.de.txt'\n",
        "ted3_de = '/content/gdrive/MyDrive/TFM/raw_ted_files/002_792.de.txt'\n",
        "ted4_de = '/content/gdrive/MyDrive/TFM/raw_ted_files/003_799.de.txt'\n",
        "ted5_de = '/content/gdrive/MyDrive/TFM/raw_ted_files/004_767.de.txt'\n",
        "ted6_de = '/content/gdrive/MyDrive/TFM/raw_ted_files/005_790.de.txt'\n",
        "ted7_de = '/content/gdrive/MyDrive/TFM/raw_ted_files/006_785.de.txt'\n",
        "ted8_de = '/content/gdrive/MyDrive/TFM/raw_ted_files/007_783.de.txt'\n",
        "ted9_de = '/content/gdrive/MyDrive/TFM/raw_ted_files/008_824.de.txt'\n",
        "ted10_de = '/content/gdrive/MyDrive/TFM/raw_ted_files/009_805.de.txt'\n",
        "ted11_de = '/content/gdrive/MyDrive/TFM/raw_ted_files/010_837.de.txt'"
      ],
      "execution_count": 4,
      "outputs": []
    },
    {
      "cell_type": "code",
      "metadata": {
        "id": "7hK-GMy3J56U"
      },
      "source": [
        "# combine raw files\n",
        "\n",
        "tedfiles_en = [ted1_en, ted2_en, ted3_en, ted4_en, ted5_en, ted6_en, ted7_en, ted8_en, ted9_en, ted10_en, ted11_en]\n",
        "tedfiles_de = [ted1_de, ted2_de, ted3_de, ted4_de, ted5_de, ted6_de, ted7_de, ted8_de, ted9_de, ted10_de, ted11_de]\n",
        "\n",
        "\n",
        "def combine_corpus (list_of_files):\n",
        "  \"\"\"receive a list of file paths, read content of each file, combine into a single file\"\"\"\n",
        "  whole_corpus = []\n",
        "  for file in list_of_files:\n",
        "    with open(file, \"r\") as f:\n",
        "      content = [line.rstrip() for line in f]\n",
        "    whole_corpus.extend(content)\n",
        "  return whole_corpus\n",
        "\n",
        "tedcorp_en = combine_corpus (tedfiles_en)\n",
        "tedcorp_de = combine_corpus (tedfiles_de)"
      ],
      "execution_count": 5,
      "outputs": []
    },
    {
      "cell_type": "code",
      "metadata": {
        "id": "eF5OZp9LK-XN"
      },
      "source": [
        "# save to .txt files\n",
        "\n",
        "TED_en = '/content/gdrive/MyDrive/TFM/ted_en.txt'\n",
        "TED_de = '/content/gdrive/MyDrive/TFM/ted_de.txt'\n",
        "\n",
        "corpora = [tedcorp_en, tedcorp_de]\n",
        "outfiles = [TED_en, TED_de]\n",
        "\n",
        "def save_corpora_to_files (corpora, files):\n",
        "  \"\"\"receive corpora and output files paths, write corpora to files\"\"\"\n",
        "  for i in range (2):\n",
        "    with open(files[i], 'w') as f_out:\n",
        "      for sentence in corpora[i]:\n",
        "        f_out.write(\"{}\\n\".format(sentence))\n",
        "\n",
        "save_corpora_to_files (corpora, outfiles)"
      ],
      "execution_count": 7,
      "outputs": []
    },
    {
      "cell_type": "markdown",
      "metadata": {
        "id": "h_CPbt8EMmXf"
      },
      "source": [
        "### STEP 2. Parsing with spaCy"
      ]
    },
    {
      "cell_type": "code",
      "metadata": {
        "id": "UFS4uDjsCpBS"
      },
      "source": [
        "!python -m spacy download en_core_web_lg"
      ],
      "execution_count": null,
      "outputs": []
    },
    {
      "cell_type": "code",
      "metadata": {
        "id": "UJnAm4P1N6Gv"
      },
      "source": [
        "# Restart runtime to load the model!!!\n",
        "# Runtime -> Restart runtime\n",
        "\n",
        "import spacy\n",
        "from spacy import displacy\n",
        "\n",
        "nlp = spacy.load('en_core_web_lg')"
      ],
      "execution_count": 2,
      "outputs": []
    },
    {
      "cell_type": "code",
      "metadata": {
        "colab": {
          "base_uri": "https://localhost:8080/",
          "height": 459
        },
        "id": "UyYZjScQipIc",
        "outputId": "2621ab79-d3c4-4f75-b7cb-0501b119794f"
      },
      "source": [
        "# explore difference in parsing, preposition vs particle\n",
        "\n",
        "sent_prep = nlp(\"John is going on a trip.\")\n",
        "\n",
        "print(\"{:10}{:10}{:10}{:10}{:10}{:10}\".format(\"Token\", \"Lemma\", \"Tag\", \"POS\", \"Dependency\", \"Parent\"))\n",
        "for token in sent_prep:\n",
        "  print(\"{:10}{:10}{:10}{:10}{:10}{:10}\".format(token.text, token.lemma_, token.tag_, token.pos_, token.dep_, token.head.text))\n",
        "\n",
        "displacy.render(sent_prep,\n",
        "                style=\"dep\",\n",
        "                options={\"collapse_punct\": False, \"distance\": 110, \"fine_grained\": True},\n",
        "                jupyter=True)"
      ],
      "execution_count": 5,
      "outputs": [
        {
          "output_type": "stream",
          "text": [
            "Token     Lemma     Tag       POS       DependencyParent    \n",
            "John      John      NNP       PROPN     nsubj     going     \n",
            "is        be        VBZ       AUX       aux       going     \n",
            "going     go        VBG       VERB      ROOT      going     \n",
            "on        on        IN        ADP       prep      going     \n",
            "a         a         DT        DET       det       trip      \n",
            "trip      trip      NN        NOUN      pobj      on        \n",
            ".         .         .         PUNCT     punct     going     \n"
          ],
          "name": "stdout"
        },
        {
          "output_type": "display_data",
          "data": {
            "text/html": [
              "<span class=\"tex2jax_ignore\"><svg xmlns=\"http://www.w3.org/2000/svg\" xmlns:xlink=\"http://www.w3.org/1999/xlink\" xml:lang=\"en\" id=\"a82b26f447ec4c89bf7558c875983e9a-0\" class=\"displacy\" width=\"820\" height=\"302.0\" direction=\"ltr\" style=\"max-width: none; height: 302.0px; color: #000000; background: #ffffff; font-family: Arial; direction: ltr\">\n",
              "<text class=\"displacy-token\" fill=\"currentColor\" text-anchor=\"middle\" y=\"212.0\">\n",
              "    <tspan class=\"displacy-word\" fill=\"currentColor\" x=\"50\">John</tspan>\n",
              "    <tspan class=\"displacy-tag\" dy=\"2em\" fill=\"currentColor\" x=\"50\">NNP</tspan>\n",
              "</text>\n",
              "\n",
              "<text class=\"displacy-token\" fill=\"currentColor\" text-anchor=\"middle\" y=\"212.0\">\n",
              "    <tspan class=\"displacy-word\" fill=\"currentColor\" x=\"160\">is</tspan>\n",
              "    <tspan class=\"displacy-tag\" dy=\"2em\" fill=\"currentColor\" x=\"160\">VBZ</tspan>\n",
              "</text>\n",
              "\n",
              "<text class=\"displacy-token\" fill=\"currentColor\" text-anchor=\"middle\" y=\"212.0\">\n",
              "    <tspan class=\"displacy-word\" fill=\"currentColor\" x=\"270\">going</tspan>\n",
              "    <tspan class=\"displacy-tag\" dy=\"2em\" fill=\"currentColor\" x=\"270\">VBG</tspan>\n",
              "</text>\n",
              "\n",
              "<text class=\"displacy-token\" fill=\"currentColor\" text-anchor=\"middle\" y=\"212.0\">\n",
              "    <tspan class=\"displacy-word\" fill=\"currentColor\" x=\"380\">on</tspan>\n",
              "    <tspan class=\"displacy-tag\" dy=\"2em\" fill=\"currentColor\" x=\"380\">IN</tspan>\n",
              "</text>\n",
              "\n",
              "<text class=\"displacy-token\" fill=\"currentColor\" text-anchor=\"middle\" y=\"212.0\">\n",
              "    <tspan class=\"displacy-word\" fill=\"currentColor\" x=\"490\">a</tspan>\n",
              "    <tspan class=\"displacy-tag\" dy=\"2em\" fill=\"currentColor\" x=\"490\">DT</tspan>\n",
              "</text>\n",
              "\n",
              "<text class=\"displacy-token\" fill=\"currentColor\" text-anchor=\"middle\" y=\"212.0\">\n",
              "    <tspan class=\"displacy-word\" fill=\"currentColor\" x=\"600\">trip</tspan>\n",
              "    <tspan class=\"displacy-tag\" dy=\"2em\" fill=\"currentColor\" x=\"600\">NN</tspan>\n",
              "</text>\n",
              "\n",
              "<text class=\"displacy-token\" fill=\"currentColor\" text-anchor=\"middle\" y=\"212.0\">\n",
              "    <tspan class=\"displacy-word\" fill=\"currentColor\" x=\"710\">.</tspan>\n",
              "    <tspan class=\"displacy-tag\" dy=\"2em\" fill=\"currentColor\" x=\"710\">.</tspan>\n",
              "</text>\n",
              "\n",
              "<g class=\"displacy-arrow\">\n",
              "    <path class=\"displacy-arc\" id=\"arrow-a82b26f447ec4c89bf7558c875983e9a-0-0\" stroke-width=\"2px\" d=\"M70,167.0 C70,57.0 265.0,57.0 265.0,167.0\" fill=\"none\" stroke=\"currentColor\"/>\n",
              "    <text dy=\"1.25em\" style=\"font-size: 0.8em; letter-spacing: 1px\">\n",
              "        <textPath xlink:href=\"#arrow-a82b26f447ec4c89bf7558c875983e9a-0-0\" class=\"displacy-label\" startOffset=\"50%\" side=\"left\" fill=\"currentColor\" text-anchor=\"middle\">nsubj</textPath>\n",
              "    </text>\n",
              "    <path class=\"displacy-arrowhead\" d=\"M70,169.0 L62,157.0 78,157.0\" fill=\"currentColor\"/>\n",
              "</g>\n",
              "\n",
              "<g class=\"displacy-arrow\">\n",
              "    <path class=\"displacy-arc\" id=\"arrow-a82b26f447ec4c89bf7558c875983e9a-0-1\" stroke-width=\"2px\" d=\"M180,167.0 C180,112.0 260.0,112.0 260.0,167.0\" fill=\"none\" stroke=\"currentColor\"/>\n",
              "    <text dy=\"1.25em\" style=\"font-size: 0.8em; letter-spacing: 1px\">\n",
              "        <textPath xlink:href=\"#arrow-a82b26f447ec4c89bf7558c875983e9a-0-1\" class=\"displacy-label\" startOffset=\"50%\" side=\"left\" fill=\"currentColor\" text-anchor=\"middle\">aux</textPath>\n",
              "    </text>\n",
              "    <path class=\"displacy-arrowhead\" d=\"M180,169.0 L172,157.0 188,157.0\" fill=\"currentColor\"/>\n",
              "</g>\n",
              "\n",
              "<g class=\"displacy-arrow\">\n",
              "    <path class=\"displacy-arc\" id=\"arrow-a82b26f447ec4c89bf7558c875983e9a-0-2\" stroke-width=\"2px\" d=\"M290,167.0 C290,112.0 370.0,112.0 370.0,167.0\" fill=\"none\" stroke=\"currentColor\"/>\n",
              "    <text dy=\"1.25em\" style=\"font-size: 0.8em; letter-spacing: 1px\">\n",
              "        <textPath xlink:href=\"#arrow-a82b26f447ec4c89bf7558c875983e9a-0-2\" class=\"displacy-label\" startOffset=\"50%\" side=\"left\" fill=\"currentColor\" text-anchor=\"middle\">prep</textPath>\n",
              "    </text>\n",
              "    <path class=\"displacy-arrowhead\" d=\"M370.0,169.0 L378.0,157.0 362.0,157.0\" fill=\"currentColor\"/>\n",
              "</g>\n",
              "\n",
              "<g class=\"displacy-arrow\">\n",
              "    <path class=\"displacy-arc\" id=\"arrow-a82b26f447ec4c89bf7558c875983e9a-0-3\" stroke-width=\"2px\" d=\"M510,167.0 C510,112.0 590.0,112.0 590.0,167.0\" fill=\"none\" stroke=\"currentColor\"/>\n",
              "    <text dy=\"1.25em\" style=\"font-size: 0.8em; letter-spacing: 1px\">\n",
              "        <textPath xlink:href=\"#arrow-a82b26f447ec4c89bf7558c875983e9a-0-3\" class=\"displacy-label\" startOffset=\"50%\" side=\"left\" fill=\"currentColor\" text-anchor=\"middle\">det</textPath>\n",
              "    </text>\n",
              "    <path class=\"displacy-arrowhead\" d=\"M510,169.0 L502,157.0 518,157.0\" fill=\"currentColor\"/>\n",
              "</g>\n",
              "\n",
              "<g class=\"displacy-arrow\">\n",
              "    <path class=\"displacy-arc\" id=\"arrow-a82b26f447ec4c89bf7558c875983e9a-0-4\" stroke-width=\"2px\" d=\"M400,167.0 C400,57.0 595.0,57.0 595.0,167.0\" fill=\"none\" stroke=\"currentColor\"/>\n",
              "    <text dy=\"1.25em\" style=\"font-size: 0.8em; letter-spacing: 1px\">\n",
              "        <textPath xlink:href=\"#arrow-a82b26f447ec4c89bf7558c875983e9a-0-4\" class=\"displacy-label\" startOffset=\"50%\" side=\"left\" fill=\"currentColor\" text-anchor=\"middle\">pobj</textPath>\n",
              "    </text>\n",
              "    <path class=\"displacy-arrowhead\" d=\"M595.0,169.0 L603.0,157.0 587.0,157.0\" fill=\"currentColor\"/>\n",
              "</g>\n",
              "\n",
              "<g class=\"displacy-arrow\">\n",
              "    <path class=\"displacy-arc\" id=\"arrow-a82b26f447ec4c89bf7558c875983e9a-0-5\" stroke-width=\"2px\" d=\"M290,167.0 C290,2.0 710.0,2.0 710.0,167.0\" fill=\"none\" stroke=\"currentColor\"/>\n",
              "    <text dy=\"1.25em\" style=\"font-size: 0.8em; letter-spacing: 1px\">\n",
              "        <textPath xlink:href=\"#arrow-a82b26f447ec4c89bf7558c875983e9a-0-5\" class=\"displacy-label\" startOffset=\"50%\" side=\"left\" fill=\"currentColor\" text-anchor=\"middle\">punct</textPath>\n",
              "    </text>\n",
              "    <path class=\"displacy-arrowhead\" d=\"M710.0,169.0 L718.0,157.0 702.0,157.0\" fill=\"currentColor\"/>\n",
              "</g>\n",
              "</svg></span>"
            ],
            "text/plain": [
              "<IPython.core.display.HTML object>"
            ]
          },
          "metadata": {
            "tags": []
          }
        }
      ]
    },
    {
      "cell_type": "code",
      "metadata": {
        "colab": {
          "base_uri": "https://localhost:8080/",
          "height": 442
        },
        "id": "oPtO8P_TjJtH",
        "outputId": "436b4571-5d76-4a5c-bd5b-f6824258d24b"
      },
      "source": [
        "sent_part = nlp(\"What is going on here?\")\n",
        "\n",
        "print(\"{:10}{:10}{:10}{:10}{:10}{:10}\".format(\"Token\", \"Lemma\", \"Tag\", \"POS\", \"Dependency\", \"Parent\"))\n",
        "for token in sent_part:\n",
        "  print(\"{:10}{:10}{:10}{:10}{:10}{:10}\".format(token.text, token.lemma_, token.tag_, token.pos_, token.dep_, token.head.text))\n",
        "\n",
        "displacy.render(sent_part,\n",
        "                style=\"dep\",\n",
        "                options={\"collapse_punct\": False, \"distance\": 110, \"fine_grained\": True},\n",
        "                jupyter=True)"
      ],
      "execution_count": 6,
      "outputs": [
        {
          "output_type": "stream",
          "text": [
            "Token     Lemma     Tag       POS       DependencyParent    \n",
            "What      what      WP        PRON      nsubj     going     \n",
            "is        be        VBZ       AUX       aux       going     \n",
            "going     go        VBG       VERB      ROOT      going     \n",
            "on        on        RP        ADP       prt       going     \n",
            "here      here      RB        ADV       advmod    going     \n",
            "?         ?         .         PUNCT     punct     going     \n"
          ],
          "name": "stdout"
        },
        {
          "output_type": "display_data",
          "data": {
            "text/html": [
              "<span class=\"tex2jax_ignore\"><svg xmlns=\"http://www.w3.org/2000/svg\" xmlns:xlink=\"http://www.w3.org/1999/xlink\" xml:lang=\"en\" id=\"1dacc3231f39407b8e7653c0b05c2833-0\" class=\"displacy\" width=\"710\" height=\"302.0\" direction=\"ltr\" style=\"max-width: none; height: 302.0px; color: #000000; background: #ffffff; font-family: Arial; direction: ltr\">\n",
              "<text class=\"displacy-token\" fill=\"currentColor\" text-anchor=\"middle\" y=\"212.0\">\n",
              "    <tspan class=\"displacy-word\" fill=\"currentColor\" x=\"50\">What</tspan>\n",
              "    <tspan class=\"displacy-tag\" dy=\"2em\" fill=\"currentColor\" x=\"50\">WP</tspan>\n",
              "</text>\n",
              "\n",
              "<text class=\"displacy-token\" fill=\"currentColor\" text-anchor=\"middle\" y=\"212.0\">\n",
              "    <tspan class=\"displacy-word\" fill=\"currentColor\" x=\"160\">is</tspan>\n",
              "    <tspan class=\"displacy-tag\" dy=\"2em\" fill=\"currentColor\" x=\"160\">VBZ</tspan>\n",
              "</text>\n",
              "\n",
              "<text class=\"displacy-token\" fill=\"currentColor\" text-anchor=\"middle\" y=\"212.0\">\n",
              "    <tspan class=\"displacy-word\" fill=\"currentColor\" x=\"270\">going</tspan>\n",
              "    <tspan class=\"displacy-tag\" dy=\"2em\" fill=\"currentColor\" x=\"270\">VBG</tspan>\n",
              "</text>\n",
              "\n",
              "<text class=\"displacy-token\" fill=\"currentColor\" text-anchor=\"middle\" y=\"212.0\">\n",
              "    <tspan class=\"displacy-word\" fill=\"currentColor\" x=\"380\">on</tspan>\n",
              "    <tspan class=\"displacy-tag\" dy=\"2em\" fill=\"currentColor\" x=\"380\">RP</tspan>\n",
              "</text>\n",
              "\n",
              "<text class=\"displacy-token\" fill=\"currentColor\" text-anchor=\"middle\" y=\"212.0\">\n",
              "    <tspan class=\"displacy-word\" fill=\"currentColor\" x=\"490\">here</tspan>\n",
              "    <tspan class=\"displacy-tag\" dy=\"2em\" fill=\"currentColor\" x=\"490\">RB</tspan>\n",
              "</text>\n",
              "\n",
              "<text class=\"displacy-token\" fill=\"currentColor\" text-anchor=\"middle\" y=\"212.0\">\n",
              "    <tspan class=\"displacy-word\" fill=\"currentColor\" x=\"600\">?</tspan>\n",
              "    <tspan class=\"displacy-tag\" dy=\"2em\" fill=\"currentColor\" x=\"600\">.</tspan>\n",
              "</text>\n",
              "\n",
              "<g class=\"displacy-arrow\">\n",
              "    <path class=\"displacy-arc\" id=\"arrow-1dacc3231f39407b8e7653c0b05c2833-0-0\" stroke-width=\"2px\" d=\"M70,167.0 C70,57.0 265.0,57.0 265.0,167.0\" fill=\"none\" stroke=\"currentColor\"/>\n",
              "    <text dy=\"1.25em\" style=\"font-size: 0.8em; letter-spacing: 1px\">\n",
              "        <textPath xlink:href=\"#arrow-1dacc3231f39407b8e7653c0b05c2833-0-0\" class=\"displacy-label\" startOffset=\"50%\" side=\"left\" fill=\"currentColor\" text-anchor=\"middle\">nsubj</textPath>\n",
              "    </text>\n",
              "    <path class=\"displacy-arrowhead\" d=\"M70,169.0 L62,157.0 78,157.0\" fill=\"currentColor\"/>\n",
              "</g>\n",
              "\n",
              "<g class=\"displacy-arrow\">\n",
              "    <path class=\"displacy-arc\" id=\"arrow-1dacc3231f39407b8e7653c0b05c2833-0-1\" stroke-width=\"2px\" d=\"M180,167.0 C180,112.0 260.0,112.0 260.0,167.0\" fill=\"none\" stroke=\"currentColor\"/>\n",
              "    <text dy=\"1.25em\" style=\"font-size: 0.8em; letter-spacing: 1px\">\n",
              "        <textPath xlink:href=\"#arrow-1dacc3231f39407b8e7653c0b05c2833-0-1\" class=\"displacy-label\" startOffset=\"50%\" side=\"left\" fill=\"currentColor\" text-anchor=\"middle\">aux</textPath>\n",
              "    </text>\n",
              "    <path class=\"displacy-arrowhead\" d=\"M180,169.0 L172,157.0 188,157.0\" fill=\"currentColor\"/>\n",
              "</g>\n",
              "\n",
              "<g class=\"displacy-arrow\">\n",
              "    <path class=\"displacy-arc\" id=\"arrow-1dacc3231f39407b8e7653c0b05c2833-0-2\" stroke-width=\"2px\" d=\"M290,167.0 C290,112.0 370.0,112.0 370.0,167.0\" fill=\"none\" stroke=\"currentColor\"/>\n",
              "    <text dy=\"1.25em\" style=\"font-size: 0.8em; letter-spacing: 1px\">\n",
              "        <textPath xlink:href=\"#arrow-1dacc3231f39407b8e7653c0b05c2833-0-2\" class=\"displacy-label\" startOffset=\"50%\" side=\"left\" fill=\"currentColor\" text-anchor=\"middle\">prt</textPath>\n",
              "    </text>\n",
              "    <path class=\"displacy-arrowhead\" d=\"M370.0,169.0 L378.0,157.0 362.0,157.0\" fill=\"currentColor\"/>\n",
              "</g>\n",
              "\n",
              "<g class=\"displacy-arrow\">\n",
              "    <path class=\"displacy-arc\" id=\"arrow-1dacc3231f39407b8e7653c0b05c2833-0-3\" stroke-width=\"2px\" d=\"M290,167.0 C290,57.0 485.0,57.0 485.0,167.0\" fill=\"none\" stroke=\"currentColor\"/>\n",
              "    <text dy=\"1.25em\" style=\"font-size: 0.8em; letter-spacing: 1px\">\n",
              "        <textPath xlink:href=\"#arrow-1dacc3231f39407b8e7653c0b05c2833-0-3\" class=\"displacy-label\" startOffset=\"50%\" side=\"left\" fill=\"currentColor\" text-anchor=\"middle\">advmod</textPath>\n",
              "    </text>\n",
              "    <path class=\"displacy-arrowhead\" d=\"M485.0,169.0 L493.0,157.0 477.0,157.0\" fill=\"currentColor\"/>\n",
              "</g>\n",
              "\n",
              "<g class=\"displacy-arrow\">\n",
              "    <path class=\"displacy-arc\" id=\"arrow-1dacc3231f39407b8e7653c0b05c2833-0-4\" stroke-width=\"2px\" d=\"M290,167.0 C290,2.0 600.0,2.0 600.0,167.0\" fill=\"none\" stroke=\"currentColor\"/>\n",
              "    <text dy=\"1.25em\" style=\"font-size: 0.8em; letter-spacing: 1px\">\n",
              "        <textPath xlink:href=\"#arrow-1dacc3231f39407b8e7653c0b05c2833-0-4\" class=\"displacy-label\" startOffset=\"50%\" side=\"left\" fill=\"currentColor\" text-anchor=\"middle\">punct</textPath>\n",
              "    </text>\n",
              "    <path class=\"displacy-arrowhead\" d=\"M600.0,169.0 L608.0,157.0 592.0,157.0\" fill=\"currentColor\"/>\n",
              "</g>\n",
              "</svg></span>"
            ],
            "text/plain": [
              "<IPython.core.display.HTML object>"
            ]
          },
          "metadata": {
            "tags": []
          }
        }
      ]
    },
    {
      "cell_type": "markdown",
      "metadata": {
        "id": "aG7B_1nimNfi"
      },
      "source": [
        "### STEP 3. Get Subcorpus -> Phrasal Verbs"
      ]
    },
    {
      "cell_type": "code",
      "metadata": {
        "id": "nEIgY4TAj3c0"
      },
      "source": [
        "# load corpus files\n",
        "\n",
        "tedfile_en = '/content/gdrive/MyDrive/TFM/ted_en.txt'\n",
        "tedfile_de = '/content/gdrive/MyDrive/TFM/ted_de.txt'\n",
        "\n",
        "def read_file (file):\n",
        "  with open(file, 'r') as f:\n",
        "    content = [line.rstrip() for line in f]\n",
        "  return content\n",
        "\n",
        "ted_en = read_file(tedfile_en)\n",
        "ted_de = read_file(tedfile_de)"
      ],
      "execution_count": null,
      "outputs": []
    },
    {
      "cell_type": "code",
      "metadata": {
        "id": "fkNcMNGsjnH2"
      },
      "source": [
        "# build subcorpus\n",
        "\n",
        "def get_phrasalverbs_subcorpus (corpus):\n",
        "  \"\"\"Receive a corpus of sentences, return a subcorpus of sentences with phrasal verbs and the list of indices\"\"\"\n",
        "  \n",
        "  target_sentences = []\n",
        "  target_indices = []\n",
        "  \n",
        "  for i in range (len(corpus)):\n",
        "    sentence = nlp(corpus[i])\n",
        "    for token in sentence:\n",
        "      if token.tag_ == 'RP' and token.dep_ == \"prt\" and token.head.pos_ == \"VERB\":\n",
        "        target_sentences.append(corpus[i])\n",
        "        target_indices.append(i)\n",
        "  \n",
        "  return target_sentences, target_indices\n",
        "\n",
        "\n",
        "# find English sentences with phrasal verbs and their indices\n",
        "ted_en_subcorpus, ted_subcorpus_indices = get_phrasalverbs_subcorpus(ted_en)\n",
        "\n",
        "# retrieve corresponding German sentences by indices\n",
        "ted_de_subcorpus = []\n",
        "for i in ted_subcorpus_indices:\n",
        "  ted_de_subcorpus.append(ted_de[i])"
      ],
      "execution_count": null,
      "outputs": []
    },
    {
      "cell_type": "code",
      "metadata": {
        "id": "lcQPbEkBliq_"
      },
      "source": [
        "# save results to pandas dataframe\n",
        "\n",
        "import pandas as pd\n",
        "\n",
        "teddata = pd.DataFrame(list(zip(ted_subcorpus_indices, ted_en_subcorpus, ted_de_subcorpus)),\n",
        "                      columns =['Index', 'Original EN Sentence', 'DE Counterpart Sentence'])\n",
        "\n",
        "teddata.to_excel(r'/content/gdrive/MyDrive/TFM/tedsubcorpus.xlsx')"
      ],
      "execution_count": 13,
      "outputs": []
    },
    {
      "cell_type": "markdown",
      "metadata": {
        "id": "RTh0xlrbnluF"
      },
      "source": [
        "### STEP 4. Translate DE to EN with transformer.wmt19.de-en"
      ]
    },
    {
      "cell_type": "code",
      "metadata": {
        "id": "ftypOed4n5Kb"
      },
      "source": [
        "# packages\n",
        "\n",
        "import torch\n",
        "import pandas as pd\n",
        "! pip install fairseq fastBPE sacremoses"
      ],
      "execution_count": 1,
      "outputs": []
    },
    {
      "cell_type": "code",
      "metadata": {
        "id": "eNXC90Vxi6VH"
      },
      "source": [
        "# load the model\n",
        "\n",
        "de2en = torch.hub.load('pytorch/fairseq', 'transformer.wmt19.de-en', checkpoint_file='model1.pt:model2.pt:model3.pt:model4.pt',\n",
        "                       tokenizer='moses', bpe='fastbpe')"
      ],
      "execution_count": null,
      "outputs": []
    },
    {
      "cell_type": "code",
      "metadata": {
        "colab": {
          "base_uri": "https://localhost:8080/",
          "height": 204
        },
        "id": "CowBVJ_Ni_ys",
        "outputId": "4165cd45-ca61-4d85-cbd8-b9a62adc0570"
      },
      "source": [
        "# load the data\n",
        "\n",
        "teddata = pd.read_excel('/content/gdrive/MyDrive/TFM/tedsubcorpus.xlsx', index_col=0)\n",
        "teddata.head()"
      ],
      "execution_count": 5,
      "outputs": [
        {
          "output_type": "execute_result",
          "data": {
            "text/html": [
              "<div>\n",
              "<style scoped>\n",
              "    .dataframe tbody tr th:only-of-type {\n",
              "        vertical-align: middle;\n",
              "    }\n",
              "\n",
              "    .dataframe tbody tr th {\n",
              "        vertical-align: top;\n",
              "    }\n",
              "\n",
              "    .dataframe thead th {\n",
              "        text-align: right;\n",
              "    }\n",
              "</style>\n",
              "<table border=\"1\" class=\"dataframe\">\n",
              "  <thead>\n",
              "    <tr style=\"text-align: right;\">\n",
              "      <th></th>\n",
              "      <th>Index</th>\n",
              "      <th>Original EN Sentence</th>\n",
              "      <th>DE Counterpart Sentence</th>\n",
              "    </tr>\n",
              "  </thead>\n",
              "  <tbody>\n",
              "    <tr>\n",
              "      <th>0</th>\n",
              "      <td>1</td>\n",
              "      <td>I had somebody count the number of books with ...</td>\n",
              "      <td>Ich habe einige Leute die Anzahl der Bücher zä...</td>\n",
              "    </tr>\n",
              "    <tr>\n",
              "      <th>1</th>\n",
              "      <td>7</td>\n",
              "      <td>This applies to laypeople thinking about their...</td>\n",
              "      <td>Das gilt für Laien , die über ihr eigenes Glüc...</td>\n",
              "    </tr>\n",
              "    <tr>\n",
              "      <th>2</th>\n",
              "      <td>7</td>\n",
              "      <td>This applies to laypeople thinking about their...</td>\n",
              "      <td>Das gilt für Laien , die über ihr eigenes Glüc...</td>\n",
              "    </tr>\n",
              "    <tr>\n",
              "      <th>3</th>\n",
              "      <td>9</td>\n",
              "      <td>It turns out that the word happiness is just n...</td>\n",
              "      <td>Es stellt sich heraus , dass das Wort Glück ei...</td>\n",
              "    </tr>\n",
              "    <tr>\n",
              "      <th>4</th>\n",
              "      <td>10</td>\n",
              "      <td>I think there is one particular meaning to whi...</td>\n",
              "      <td>Ich denke , es gibt eine bestimmte Bedeutung ,...</td>\n",
              "    </tr>\n",
              "  </tbody>\n",
              "</table>\n",
              "</div>"
            ],
            "text/plain": [
              "   Index  ...                            DE Counterpart Sentence\n",
              "0      1  ...  Ich habe einige Leute die Anzahl der Bücher zä...\n",
              "1      7  ...  Das gilt für Laien , die über ihr eigenes Glüc...\n",
              "2      7  ...  Das gilt für Laien , die über ihr eigenes Glüc...\n",
              "3      9  ...  Es stellt sich heraus , dass das Wort Glück ei...\n",
              "4     10  ...  Ich denke , es gibt eine bestimmte Bedeutung ,...\n",
              "\n",
              "[5 rows x 3 columns]"
            ]
          },
          "metadata": {
            "tags": []
          },
          "execution_count": 5
        }
      ]
    },
    {
      "cell_type": "code",
      "metadata": {
        "id": "yFF3AeKhjnMX"
      },
      "source": [
        "# translate from DE to EN, add to the dataframe, save to an excel file\n",
        "\n",
        "ted_de = teddata['DE Counterpart Sentence'].tolist()\n",
        "ted_de2en = de2en.translate(ted_de)\n",
        "teddata['System Generated DE -> EN Sentence'] = ted_de2en\n",
        "\n",
        "teddata.to_excel(r'/content/gdrive/MyDrive/TFM/tedtranslated.xlsx')"
      ],
      "execution_count": null,
      "outputs": []
    }
  ]
}